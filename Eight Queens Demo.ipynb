{
 "cells": [
  {
   "cell_type": "markdown",
   "metadata": {},
   "source": [
    "# Eight Queens\n",
    "\n",
    "This is a demo implementation of the Eight Queens problem for Simple GA Solver"
   ]
  },
  {
   "cell_type": "code",
   "execution_count": 79,
   "metadata": {},
   "outputs": [],
   "source": [
    "from functools import lru_cache\n",
    "\n",
    "\n",
    "@lru_cache(maxsize=64)\n",
    "def attacking_positions(line, column):\n",
    "    \"\"\"\n",
    "    Returns a list containing the positions a Queen at `line` and `column can attack\n",
    "    \n",
    "    >>> attacking_positions(8, 1)\n",
    "    [(7, 2), (6, 3), (5, 4), (4, 5), (3, 6), (2, 7), (1, 8)]\n",
    "    \"\"\"\n",
    "    result = []\n",
    "\n",
    "    def check_bounds(line, column):\n",
    "        \"\"\"\n",
    "        Checks if a given position is valid. That is, is within the board boundaries\n",
    "        \"\"\"\n",
    "        return (0 < line < 9) and (0 < column < 9)\n",
    "\n",
    "    def diagonal(line, column, n=1):\n",
    "        \"\"\"\n",
    "        Calculates the diagonals of a given position\n",
    "        \"\"\"\n",
    "        for x in range(1, 9):\n",
    "            if n == 1:\n",
    "                line_ = line + x\n",
    "                column_ = column + x\n",
    "            elif n == 2:\n",
    "                line_ = line - x\n",
    "                column_ = column + x\n",
    "            elif n == 3:\n",
    "                line_ = line - x\n",
    "                column_ = column - x\n",
    "            elif n == 4:\n",
    "                line_ = line + x\n",
    "                column_ = column - x\n",
    "\n",
    "            if check_bounds(line_, column_):\n",
    "                yield (line_, column_)\n",
    "\n",
    "    diagonal1 = list(diagonal(line, column))\n",
    "    diagonal2 = list(diagonal(line, column, n=2))\n",
    "    diagonal3 = list(diagonal(line, column, n=3))\n",
    "    diagonal4 = list(diagonal(line, column, n=4))\n",
    "\n",
    "    result.extend(diagonal1)\n",
    "    result.extend(diagonal2)\n",
    "    result.extend(diagonal3)\n",
    "    result.extend(diagonal4)\n",
    "    return result"
   ]
  },
  {
   "cell_type": "code",
   "execution_count": 78,
   "metadata": {},
   "outputs": [
    {
     "data": {
      "text/plain": [
       "[(7, 2), (6, 3), (5, 4), (4, 5), (3, 6), (2, 7), (1, 8)]"
      ]
     },
     "execution_count": 78,
     "metadata": {},
     "output_type": "execute_result"
    }
   ],
   "source": [
    "attacking_positions(8, 1)"
   ]
  },
  {
   "cell_type": "code",
   "execution_count": 85,
   "metadata": {},
   "outputs": [],
   "source": [
    "def attacks(queen_a, queen_b):\n",
    "    \"\"\"\n",
    "    Returns true if those queens are in reachable positions from each other\n",
    "    \n",
    "    Args:\n",
    "        queen_a, queen_b (tuple): a (line, column) tuple representing their positions\n",
    "        \n",
    "    >>> attacks((8,1), (6,3))\n",
    "    True\n",
    "    >>> attacks((6,3), (8, 1))\n",
    "    True\n",
    "    \n",
    "    \"\"\"\n",
    "\n",
    "    return (\n",
    "        queen_a[0] == queen_b[0]\n",
    "        or queen_a[1] == queen_b[1]\n",
    "        or queen_a in attacking_positions(*queen_b)\n",
    "    )"
   ]
  },
  {
   "cell_type": "code",
   "execution_count": 86,
   "metadata": {},
   "outputs": [
    {
     "data": {
      "text/plain": [
       "True"
      ]
     },
     "execution_count": 86,
     "metadata": {},
     "output_type": "execute_result"
    }
   ],
   "source": [
    "attacks((8, 1), (6, 3))"
   ]
  },
  {
   "cell_type": "code",
   "execution_count": 107,
   "metadata": {},
   "outputs": [],
   "source": [
    "from itertools import combinations\n",
    "\n",
    "def count_non_attacking_queens(board):\n",
    "    \"\"\"\n",
    "    Given an integer list of 8 items, each position representing a column on a chess board\n",
    "    and each number representing a line in that column where there's a queen, returns\n",
    "    the number of non attacking queens\n",
    "    \"\"\"\n",
    "    queens = [(line, column + 1) for column, line in enumerate(board)]\n",
    "    queen_combos = combinations(queens, 2)\n",
    "    \n",
    "    non_attacking = 0\n",
    "    \n",
    "    for queen_a, queen_b in queen_combos:\n",
    "        non_attacking += 1 if not attacks(queen_a, queen_b) else 0\n",
    "    return non_attacking"
   ]
  },
  {
   "cell_type": "code",
   "execution_count": 108,
   "metadata": {},
   "outputs": [
    {
     "data": {
      "text/plain": [
       "27"
      ]
     },
     "execution_count": 108,
     "metadata": {},
     "output_type": "execute_result"
    }
   ],
   "source": [
    "count_non_attacking_queens([8,6,4,2,7,5,3,1])"
   ]
  },
  {
   "cell_type": "code",
   "execution_count": null,
   "metadata": {},
   "outputs": [],
   "source": []
  }
 ],
 "metadata": {
  "kernelspec": {
   "display_name": "Python 3",
   "language": "python",
   "name": "python3"
  },
  "language_info": {
   "codemirror_mode": {
    "name": "ipython",
    "version": 3
   },
   "file_extension": ".py",
   "mimetype": "text/x-python",
   "name": "python",
   "nbconvert_exporter": "python",
   "pygments_lexer": "ipython3",
   "version": "3.7.6"
  }
 },
 "nbformat": 4,
 "nbformat_minor": 4
}
