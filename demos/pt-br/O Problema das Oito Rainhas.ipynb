{
 "cells": [
  {
   "cell_type": "markdown",
   "metadata": {},
   "source": [
    "# O Problema das Oito Rainhas\n",
    "\n",
    "Esse notebook demonstra o `GASolver` usando-o para resolver o Problema das Oito Rainhas.\n",
    "O problema consiste em colocoar oito rainhas num tabuleiro de xadrez de forma que\n",
    "nenhuma delas possa atacar a outra.\n",
    "\n",
    "Para resolver um problema utilizando algoritmos genéticos e, por consequência o `GASolver`,\n",
    "algumas questões precisam ser definidas:\n",
    "\n",
    "    1. Como representar uma possível solução, normalmente chamado de 'indivíduo'?\n",
    "    2. Como realizar uma *mutação* em um indivíduo?\n",
    "    3. Como realizar o *cruzamento* de dois indivíduos?\n",
    "    4. Como determinar o quão \"perto\" da solução um indivíduo está,\n",
    "       normalmente chamado de \"_fitness_\"?\n",
    "    5. Como definir o valor de \"_fitness_\" máximo e indica que o problema é\n",
    "       resolvido por um indivíduo?"
   ]
  },
  {
   "cell_type": "markdown",
   "metadata": {},
   "source": [
    "## Expressando um Indivíduo\n",
    "\n",
    "No caso do Problema das Oito Rainhas, podemos lançar mão de certas características\n",
    "das regras e do jogo de xadrez:\n",
    "\n",
    "    1. O tabuleiro é 8x8\n",
    "    2. Rainhas atacam toda a sua coluna\n",
    "    3. Rainhas atacam toda a sua linha\n",
    "    \n",
    "Dessas observações, podemos concluir com segurança que uma solução não terá\n",
    "duas ou mais rainhas na mesma linha nem na mesma coluna. Seja lá como for\n",
    "a solução, as rainhas não podem compartilhar esses atributos.\n",
    "\n",
    "Sendo assim, podemos representar um indivíduo - e por consequência uma\n",
    "possível solução - como sendo simplesmente uma lista de 8 números\n",
    "inteiros de 1 à 8. Cada posição na lista representa uma coluna\n",
    "e o número na posição indica a linha na qual existe uma rainha.\n",
    "\n",
    "Por exemplo, em `[3, 2, 5]`, temos 3 rainhas:\n",
    "\n",
    "    1. Na coluna 1, linha 3\n",
    "    2. Na coluna 2, linha 2\n",
    "    3. Na coluna 3, linha 5\n",
    "    \n",
    "Note que no problema real, teremos sempre 8 números."
   ]
  },
  {
   "cell_type": "markdown",
   "metadata": {},
   "source": [
    "## Realizando uma Mutação\n",
    "\n",
    "Existem diversas formas que poderíamos recombinar uma lista de 8 números\n",
    "para fabricar uma outra lista de 8 números. No caso, vou optar por\n",
    "uma solução que procede assim:\n",
    "\n",
    "    1. Um índice entre [1, 6) é escolhido\n",
    "    2. Tudo o que tiver na lista depois desse índice é invertido\n",
    "    \n",
    "```\n",
    "[1, 2, 3, 4 | 5, 6, 7, 8] -> [1, 2, 3, 4, 8, 7, 5, 6]\n",
    "            ^\n",
    "            |\n",
    "          mutação\n",
    "```\n",
    "\n",
    "Por que entre 1 e 6? Isso é uma escolha arbitrária! Fiz nessa faixa porque\n",
    "gostaria que sempre _alguma coisa_ fosse mutada mas que também _alguma coisa_\n",
    "ficasse igual. Se fosse possível sortear 0, seria também possível mudar tudo.\n",
    "Por outro lado se fosse possível sortear 6 ou mais, muito pouco da solução\n",
    "original iria sobrar. Escolhi esses valores para tentar equilibrar.\n",
    "\n",
    "Adicionalmente, em 50% das vezes, a mutação ira modificar o último\n",
    "elemento para um elemento aleatório."
   ]
  },
  {
   "cell_type": "code",
   "execution_count": 2,
   "metadata": {},
   "outputs": [],
   "source": [
    "from random import randint, random\n",
    "def board_mutation(board):\n",
    "    \"\"\"\n",
    "    Pick a random position in the middle of board and flips it\n",
    "    [1, 2, 3, 4 | 5, 6, 7, 8] -> [1, 2, 3, 4, 8, 7, 5, 6]\n",
    "                ^\n",
    "         mutation point\n",
    "    \"\"\"\n",
    "    board = list(board)\n",
    "    point = randint(1, 6)\n",
    "    board[point:] = board[point:][::-1]\n",
    "    \n",
    "    if random() > 0.5:\n",
    "        board[-1] = randint(1, 8)\n",
    "        \n",
    "    return tuple(board)"
   ]
  },
  {
   "cell_type": "markdown",
   "metadata": {},
   "source": [
    "## Cruzando Indivíduos\n",
    "\n",
    "Da mesma forma que podemos definir uma mutação de muitas formas diferentes,\n",
    "também podemos inventar diversas maneiras de criar um novo indivíduo com\n",
    "base em outros dois que já existem. Decidi proceder de uma maneira\n",
    "parecida com a mutação:\n",
    "\n",
    "    1. Um índice aleatório é escolhido entre 1 <= x < 6\n",
    "    2. Até esse índice, o filho será igual ao ancestral A\n",
    "    3. Desse índice em diante, o filho será igual ao ancestral B\n",
    "\n",
    "Assim como na mutação, poderíamos ter feito de diversas formas diferentes,\n",
    "essa foi uma escolha arbitrária pensando em como fazer com que os dois\n",
    "ancestrais contribuam para o descendente."
   ]
  },
  {
   "cell_type": "code",
   "execution_count": 3,
   "metadata": {},
   "outputs": [],
   "source": [
    "from random import shuffle, random\n",
    "def crossover(board_a, board_b):\n",
    "    \"\"\"\n",
    "    Picks a random point in the board. The sibling will be equal to board_a\n",
    "    up until that point and board_b to the rest.\n",
    "    \"\"\"\n",
    "\n",
    "    point = randint(1, 6)\n",
    "    result = list(board_a[:point])\n",
    "    second_half = list(board_b[point:])\n",
    "    result.extend(second_half)\n",
    "\n",
    "    return tuple(result)"
   ]
  },
  {
   "cell_type": "code",
   "execution_count": 4,
   "metadata": {},
   "outputs": [
    {
     "data": {
      "text/plain": [
       "(1, 2, 3, 4, 5, 6, 7, 8)"
      ]
     },
     "execution_count": 4,
     "metadata": {},
     "output_type": "execute_result"
    }
   ],
   "source": [
    "crossover([1,2,3,4,5,6,7,8], [4,5,6,1,2,3,7,8])"
   ]
  },
  {
   "cell_type": "markdown",
   "metadata": {},
   "source": [
    "Vou adicionar uma outra função de crossover mais \"esperta\", a `crossover_plus`. Ela vai fazer duas coisas de diferente:\n",
    "\n",
    "    1. 50% das vezes ela vai embaralhar a parte do filho que vem do ancestral B\n",
    "    2. Nós sabemos que uma solução não pode ter de fato números repetidos. Essa\n",
    "       solução vai tentar 10x gerar um filho sem repetições. Se não conseguir,\n",
    "       vai retornar o que tiver"
   ]
  },
  {
   "cell_type": "code",
   "execution_count": 6,
   "metadata": {},
   "outputs": [],
   "source": [
    "from random import shuffle, random\n",
    "def crossover_plus(board_a, board_b):\n",
    "    \"\"\"\n",
    "    Picks a random point in the board. The sibling will be equal to board_a\n",
    "    up until that point and board_b to the rest.\n",
    "    \"\"\"\n",
    "    result = []\n",
    "    tries = 0\n",
    "    # Trimming the ends so that each parent will have a part\n",
    "    while len(set(result)) != 8 and tries < 10:\n",
    "        tries += 1\n",
    "        point = randint(1, 6)\n",
    "        result = list(board_a[:point])\n",
    "        second_half = list(board_b[point:])\n",
    "    \n",
    "        if random() > 0.5:\n",
    "            shuffle(second_half)\n",
    "        \n",
    "        result.extend(second_half)\n",
    "    \n",
    "    return tuple(result)"
   ]
  },
  {
   "cell_type": "markdown",
   "metadata": {},
   "source": [
    "## Determinando o _fitness_ e o Valor Ótimo\n",
    "\n",
    "No caso do Problema das Oito Rainhas, podemos definir o quão boa uma\n",
    "solução é com base no _número de pares de rainhas que não conseguem\n",
    "se atacar_. Como queremos que _nenhuma_ rainha consiga se atacar,\n",
    "o valor ótimo é igual à 28, o número de combinações dois-por-dois\n",
    "que conseguimos fazer com 8 elementos sem repetição.\n",
    "\n",
    "Determinar se duas rainhas se atacam envolve determinar 3 itens,\n",
    "se as rainhas estão na mesma:\n",
    "\n",
    "    1. Linha\n",
    "    2. Coluna\n",
    "    3. Diagonal\n",
    "    \n",
    "Determinar as duas primeiras condições é fácil, a terceira\n",
    "é um pouco mais elaborada. Para dividir responsabilidades\n",
    "e garantir que cada pedaço de código seja bem contido,\n",
    "primeiro vou definir uma função que determinar quais\n",
    "são as posições no tabuleiro nas diagonais de uma\n",
    "determinada posição:"
   ]
  },
  {
   "cell_type": "code",
   "execution_count": 7,
   "metadata": {},
   "outputs": [],
   "source": [
    "from functools import lru_cache\n",
    "\n",
    "\n",
    "@lru_cache(maxsize=64)\n",
    "def diagonals(line, column):\n",
    "    \"\"\"\n",
    "    Returns a list containing the positions in the\n",
    "    diagonals of a given square\n",
    "    \n",
    "    >>> attacking_positions(8, 1)\n",
    "    [(7, 2), (6, 3), (5, 4), (4, 5), (3, 6), (2, 7), (1, 8)]\n",
    "    \"\"\"\n",
    "    result = []\n",
    "\n",
    "    def check_bounds(line, column):\n",
    "        \"\"\"\n",
    "        Checks if a given position is valid. That is, is within the board boundaries\n",
    "        \"\"\"\n",
    "        return (0 < line < 9) and (0 < column < 9)\n",
    "\n",
    "    def diagonal(line, column, n=1):\n",
    "        \"\"\"\n",
    "        Calculates the diagonals of a given position\n",
    "        \"\"\"\n",
    "        for x in range(1, 9):\n",
    "            if n == 1:\n",
    "                line_ = line + x\n",
    "                column_ = column + x\n",
    "            elif n == 2:\n",
    "                line_ = line - x\n",
    "                column_ = column + x\n",
    "            elif n == 3:\n",
    "                line_ = line - x\n",
    "                column_ = column - x\n",
    "            elif n == 4:\n",
    "                line_ = line + x\n",
    "                column_ = column - x\n",
    "\n",
    "            if check_bounds(line_, column_):\n",
    "                yield (line_, column_)\n",
    "\n",
    "    diagonal1 = list(diagonal(line, column))\n",
    "    diagonal2 = list(diagonal(line, column, n=2))\n",
    "    diagonal3 = list(diagonal(line, column, n=3))\n",
    "    diagonal4 = list(diagonal(line, column, n=4))\n",
    "\n",
    "    result.extend(diagonal1)\n",
    "    result.extend(diagonal2)\n",
    "    result.extend(diagonal3)\n",
    "    result.extend(diagonal4)\n",
    "    return result"
   ]
  },
  {
   "cell_type": "code",
   "execution_count": 8,
   "metadata": {},
   "outputs": [
    {
     "data": {
      "text/plain": [
       "[(7, 2), (6, 3), (5, 4), (4, 5), (3, 6), (2, 7), (1, 8)]"
      ]
     },
     "execution_count": 8,
     "metadata": {},
     "output_type": "execute_result"
    }
   ],
   "source": [
    "diagonals(8, 1)"
   ]
  },
  {
   "cell_type": "markdown",
   "metadata": {},
   "source": [
    "Definida a função que computa as diagonais, podemos escrever uma função `attacks`,\n",
    "que dada duas rainhas retorna `True` ou `False` se elas podem se atacar ou não."
   ]
  },
  {
   "cell_type": "code",
   "execution_count": 9,
   "metadata": {},
   "outputs": [],
   "source": [
    "def attacks(queen_a, queen_b):\n",
    "    \"\"\"\n",
    "    Returns true if those queens are in reachable positions from each other\n",
    "    \n",
    "    Args:\n",
    "        queen_a, queen_b (tuple): a (line, column) tuple representing their positions\n",
    "        \n",
    "    >>> attacks((8,1), (6,3))\n",
    "    True\n",
    "    >>> attacks((6,3), (8, 1))\n",
    "    True\n",
    "    \n",
    "    \"\"\"\n",
    "\n",
    "    return (\n",
    "        queen_a[0] == queen_b[0]\n",
    "        or queen_a[1] == queen_b[1]\n",
    "        or queen_a in diagonals(*queen_b)\n",
    "    )"
   ]
  },
  {
   "cell_type": "code",
   "execution_count": 10,
   "metadata": {},
   "outputs": [
    {
     "data": {
      "text/plain": [
       "True"
      ]
     },
     "execution_count": 10,
     "metadata": {},
     "output_type": "execute_result"
    }
   ],
   "source": [
    "attacks((8, 1), (6, 3))"
   ]
  },
  {
   "cell_type": "markdown",
   "metadata": {},
   "source": [
    "Finalmente, podemos definir uma função que dado um tabuleiro,\n",
    "retorna o número de pares de rainhas que podem se atacar"
   ]
  },
  {
   "cell_type": "code",
   "execution_count": 11,
   "metadata": {},
   "outputs": [],
   "source": [
    "from itertools import combinations\n",
    "\n",
    "def count_non_attacking_queens(board):\n",
    "    \"\"\"\n",
    "    Given an integer list of 8 items, each position representing a column on a chess board\n",
    "    and each number representing a line in that column where there's a queen, returns\n",
    "    the number of non attacking queens\n",
    "    \"\"\"\n",
    "    queens = [(line, column + 1) for column, line in enumerate(board)]\n",
    "    queen_combos = combinations(queens, 2)\n",
    "    \n",
    "    non_attacking = 0\n",
    "    \n",
    "    for queen_a, queen_b in queen_combos:\n",
    "        non_attacking += 1 if not attacks(queen_a, queen_b) else 0\n",
    "    return non_attacking"
   ]
  },
  {
   "cell_type": "code",
   "execution_count": 12,
   "metadata": {},
   "outputs": [
    {
     "data": {
      "text/plain": [
       "27"
      ]
     },
     "execution_count": 12,
     "metadata": {},
     "output_type": "execute_result"
    }
   ],
   "source": [
    "count_non_attacking_queens([8,6,4,2,7,5,3,1])"
   ]
  },
  {
   "cell_type": "markdown",
   "metadata": {},
   "source": [
    "Vamos criar uma função adicional que podemos usar como fitness. Essa função vai descontar repetições que um pai possa ter:"
   ]
  },
  {
   "cell_type": "code",
   "execution_count": 14,
   "metadata": {},
   "outputs": [],
   "source": [
    "def goal(board):\n",
    "    non_attacking = count_non_attacking_queens(board)\n",
    "    repetitions = 8 - len(set(board))\n",
    "    return max(non_attacking - repetitions * 10, 0.001)"
   ]
  },
  {
   "cell_type": "markdown",
   "metadata": {},
   "source": [
    "## Usando o `GASolver`"
   ]
  },
  {
   "cell_type": "markdown",
   "metadata": {},
   "source": [
    "Com todas essas informações definidas, podemos usar o `GASolver` para resolver o problema das Oito Rainhas.\n",
    "Vou definir a população inicial como sendo 4 tabuleiros aleatórios"
   ]
  },
  {
   "cell_type": "code",
   "execution_count": 15,
   "metadata": {},
   "outputs": [],
   "source": [
    "import ga_solver\n",
    "from ga_solver import GASolver\n",
    "from ga_solver.pop_selectors import roullete"
   ]
  },
  {
   "cell_type": "code",
   "execution_count": 16,
   "metadata": {},
   "outputs": [
    {
     "data": {
      "text/plain": [
       "'0.1.2'"
      ]
     },
     "execution_count": 16,
     "metadata": {},
     "output_type": "execute_result"
    }
   ],
   "source": [
    "ga_solver.__version__"
   ]
  },
  {
   "cell_type": "markdown",
   "metadata": {},
   "source": [
    "Com essa população, podemos instanciar um `GASolver` usando o algoritmo de Roleta para seleção."
   ]
  },
  {
   "cell_type": "code",
   "execution_count": 33,
   "metadata": {},
   "outputs": [],
   "source": [
    "from random import sample\n",
    "initial_pop = [tuple(sample(range(1, 9), k=8)) for _ in range(4)]"
   ]
  },
  {
   "cell_type": "code",
   "execution_count": 34,
   "metadata": {},
   "outputs": [],
   "source": [
    "eight_queen_solver = GASolver(\n",
    "    initial_pop,\n",
    "    goal=goal,\n",
    "    target_value=28,\n",
    "    mutation=board_mutation,\n",
    "    prob_mutation=0.8,\n",
    "    crossover_=crossover,\n",
    "    selector=roullete,\n",
    "    selection_rate=0.5,\n",
    "    min_select=2,\n",
    "    max_steps=10000,\n",
    ")"
   ]
  },
  {
   "cell_type": "code",
   "execution_count": 35,
   "metadata": {},
   "outputs": [
    {
     "name": "stdout",
     "output_type": "stream",
     "text": [
      "Found the solution in 82 steps\n"
     ]
    }
   ],
   "source": [
    "fits = []\n",
    "while not eight_queen_solver.solution_found:\n",
    "    # print(f\"Population is {eight_queen_solver.population}\")\n",
    "    fits.append(eight_queen_solver.best_fit[1])\n",
    "    next(eight_queen_solver)\n",
    "print(f\"Found the solution in {eight_queen_solver.steps} steps\")"
   ]
  },
  {
   "cell_type": "markdown",
   "metadata": {},
   "source": [
    "Como podemos ver, o `solver` consegue responder. Agora vamos comparar as diferentes estratégias que tivemos. Para isso, vou criar uma função que recebe um `solver` e retorna o tanto de passos que ele levou:"
   ]
  },
  {
   "cell_type": "code",
   "execution_count": 72,
   "metadata": {},
   "outputs": [],
   "source": [
    "def solve(solver, initial_pop=None):\n",
    "    if not initial_pop:\n",
    "        initial_pop = [tuple(sample(range(1, 9), k=8)) for _ in range(4)]\n",
    "        \n",
    "    solver.steps = 0\n",
    "    solver.population = initial_pop\n",
    "    \n",
    "    while not solver.solution_found:\n",
    "        try:\n",
    "            next(solver)\n",
    "        except:\n",
    "            return -1\n",
    "    return solver.steps\n",
    "    "
   ]
  },
  {
   "cell_type": "markdown",
   "metadata": {},
   "source": [
    "Agora vamos executar nosso solver 10x:"
   ]
  },
  {
   "cell_type": "code",
   "execution_count": 73,
   "metadata": {},
   "outputs": [],
   "source": [
    "steps = [solve(eight_queen_solver, initial_pop) for _ in range(10)]"
   ]
  },
  {
   "cell_type": "code",
   "execution_count": 74,
   "metadata": {},
   "outputs": [
    {
     "data": {
      "text/plain": [
       "[559, 1481, -1, 1399, 67, 2542, 1834, 4, 1142, 1880]"
      ]
     },
     "execution_count": 74,
     "metadata": {},
     "output_type": "execute_result"
    }
   ],
   "source": [
    "steps"
   ]
  },
  {
   "cell_type": "code",
   "execution_count": 75,
   "metadata": {},
   "outputs": [
    {
     "data": {
      "image/png": "[encoded data removed]",
      "text/plain": [
       "<Figure size 432x288 with 1 Axes>"
      ]
     },
     "metadata": {
      "needs_background": "light"
     },
     "output_type": "display_data"
    }
   ],
   "source": [
    "plt.boxplot([x for x in steps if x != -1])\n",
    "plt.show()"
   ]
  },
  {
   "cell_type": "markdown",
   "metadata": {},
   "source": [
    "Como podemos ver, houve uma grande variância no número de passos necessários. Em uma instância, o solver nem conseguiu resolver o problema"
   ]
  },
  {
   "cell_type": "markdown",
   "metadata": {},
   "source": [
    "Vamos ver agora a performance usando o `crossover_plus`:"
   ]
  },
  {
   "cell_type": "code",
   "execution_count": 76,
   "metadata": {},
   "outputs": [],
   "source": [
    "eqs_cross_plus = GASolver(\n",
    "    initial_pop,\n",
    "    goal=goal,\n",
    "    target_value=28,\n",
    "    mutation=board_mutation,\n",
    "    prob_mutation=0.8,\n",
    "    crossover_=crossover_plus,\n",
    "    selector=roullete,\n",
    "    selection_rate=0.5,\n",
    "    min_select=2,\n",
    "    max_steps=10000,\n",
    ")"
   ]
  },
  {
   "cell_type": "code",
   "execution_count": 77,
   "metadata": {},
   "outputs": [],
   "source": [
    "steps = [solve(eqs_cross_plus, initial_pop) for _ in range(10)]"
   ]
  },
  {
   "cell_type": "markdown",
   "metadata": {},
   "source": [
    "Note que estou usando a mesma variável `initial_pop` em todos, para garantir que todos os problemas partam da mesma solução inicial"
   ]
  },
  {
   "cell_type": "code",
   "execution_count": 78,
   "metadata": {},
   "outputs": [
    {
     "data": {
      "text/plain": [
       "[9289, -1, 780, 3910, 4380, 1511, 1, 483, 627, 543]"
      ]
     },
     "execution_count": 78,
     "metadata": {},
     "output_type": "execute_result"
    }
   ],
   "source": [
    "steps"
   ]
  },
  {
   "cell_type": "code",
   "execution_count": 79,
   "metadata": {},
   "outputs": [
    {
     "data": {
      "image/png": "[encoded data removed]",
      "text/plain": [
       "<Figure size 432x288 with 1 Axes>"
      ]
     },
     "metadata": {
      "needs_background": "light"
     },
     "output_type": "display_data"
    }
   ],
   "source": [
    "plt.boxplot(steps)\n",
    "plt.show()"
   ]
  },
  {
   "cell_type": "markdown",
   "metadata": {},
   "source": [
    "Tivemos uma performance melhor com o `crossover_plus`! Vamos avaliar agora o `crossover` normal usando como função de objetivo apenas o número de pares que não se atacam, sem penalizar repetições:"
   ]
  },
  {
   "cell_type": "code",
   "execution_count": 59,
   "metadata": {},
   "outputs": [],
   "source": [
    "eqs_repeat = GASolver(\n",
    "    initial_pop,\n",
    "    goal=count_non_attacking_queens,\n",
    "    target_value=28,\n",
    "    mutation=board_mutation,\n",
    "    prob_mutation=0.8,\n",
    "    crossover_=crossover,\n",
    "    selector=roullete,\n",
    "    selection_rate=0.5,\n",
    "    min_select=2,\n",
    "    max_steps=10000,\n",
    ")"
   ]
  },
  {
   "cell_type": "code",
   "execution_count": 60,
   "metadata": {},
   "outputs": [],
   "source": [
    "steps = [solve(eqs_repeat, initial_pop) for _ in range(10)]"
   ]
  },
  {
   "cell_type": "code",
   "execution_count": 61,
   "metadata": {},
   "outputs": [
    {
     "data": {
      "text/plain": [
       "[1, -1, -1, -1, -1, -1, -1, -1, -1, -1]"
      ]
     },
     "execution_count": 61,
     "metadata": {},
     "output_type": "execute_result"
    }
   ],
   "source": [
    "steps"
   ]
  },
  {
   "cell_type": "markdown",
   "metadata": {},
   "source": [
    "Sem a punição por repetição e com crossover simples, nenhuma solução foi encontrada e 10k passos! Vamos adicionar o `crossover_plus`"
   ]
  },
  {
   "cell_type": "markdown",
   "metadata": {},
   "source": [
    "**Nota**: Se você reexecutar esse notebook em sua máquina, seus resultados provavelmente serão diferentes por conta da aleatoriedade que existe no comportamento"
   ]
  },
  {
   "cell_type": "code",
   "execution_count": 62,
   "metadata": {},
   "outputs": [],
   "source": [
    "eqs_repeat_plus = GASolver(\n",
    "    initial_pop,\n",
    "    goal=count_non_attacking_queens,\n",
    "    target_value=28,\n",
    "    mutation=board_mutation,\n",
    "    prob_mutation=0.8,\n",
    "    crossover_=crossover_plus,\n",
    "    selector=roullete,\n",
    "    selection_rate=0.5,\n",
    "    min_select=2,\n",
    "    max_steps=10000,\n",
    ")"
   ]
  },
  {
   "cell_type": "code",
   "execution_count": 63,
   "metadata": {},
   "outputs": [],
   "source": [
    "steps = [solve(eqs_repeat_plus, initial_pop) for _ in range(10)]"
   ]
  },
  {
   "cell_type": "code",
   "execution_count": 64,
   "metadata": {},
   "outputs": [
    {
     "data": {
      "text/plain": [
       "[-1, -1, -1, -1, -1, -1, -1, -1, -1, -1]"
      ]
     },
     "execution_count": 64,
     "metadata": {},
     "output_type": "execute_result"
    }
   ],
   "source": [
    "steps"
   ]
  },
  {
   "cell_type": "markdown",
   "metadata": {},
   "source": [
    "Mais uma vez, nenhuma solução encontrada!"
   ]
  },
  {
   "cell_type": "markdown",
   "metadata": {},
   "source": [
    "Vou definir agora um `crossover` mais agressivo: quando um descendente com repetição for encontrado, ele vai mutar o filho algumas vezes na tentativa de torná-lo viável:"
   ]
  },
  {
   "cell_type": "code",
   "execution_count": 65,
   "metadata": {},
   "outputs": [],
   "source": [
    "def crossover_mut(board_a, board_b):\n",
    "    steps = 0\n",
    "    sibling = crossover(board_a, board_b)\n",
    "    \n",
    "    while len(set(sibling)) != 8 and steps < 10:\n",
    "        sibling = board_mutation(sibling)\n",
    "        steps += 1\n",
    "        \n",
    "    return sibling"
   ]
  },
  {
   "cell_type": "markdown",
   "metadata": {},
   "source": [
    "Vamos ver se esse crossover tem mais sucesso:"
   ]
  },
  {
   "cell_type": "code",
   "execution_count": 66,
   "metadata": {},
   "outputs": [],
   "source": [
    "eqs_repeat_cross_mut = GASolver(\n",
    "    initial_pop,\n",
    "    goal=count_non_attacking_queens,\n",
    "    target_value=28,\n",
    "    mutation=board_mutation,\n",
    "    prob_mutation=0.8,\n",
    "    crossover_=crossover_mut,\n",
    "    selector=roullete,\n",
    "    selection_rate=0.5,\n",
    "    min_select=2,\n",
    "    max_steps=10000,\n",
    ")"
   ]
  },
  {
   "cell_type": "code",
   "execution_count": 67,
   "metadata": {},
   "outputs": [],
   "source": [
    "steps = [solve(eqs_repeat_plus, initial_pop) for _ in range(10)]"
   ]
  },
  {
   "cell_type": "code",
   "execution_count": 68,
   "metadata": {},
   "outputs": [
    {
     "data": {
      "text/plain": [
       "[-1, -1, 1, -1, -1, -1, -1, -1, -1, -1]"
      ]
     },
     "execution_count": 68,
     "metadata": {},
     "output_type": "execute_result"
    }
   ],
   "source": [
    "steps"
   ]
  },
  {
   "cell_type": "markdown",
   "metadata": {},
   "source": [
    "Ainda sem sucesso! Vamos avaliar esse `crossover_mut` com a função que penaliza repetições:"
   ]
  },
  {
   "cell_type": "code",
   "execution_count": 69,
   "metadata": {},
   "outputs": [],
   "source": [
    "eqs_cross_mut = GASolver(\n",
    "    initial_pop,\n",
    "    goal=goal,\n",
    "    target_value=28,\n",
    "    mutation=board_mutation,\n",
    "    prob_mutation=0.8,\n",
    "    crossover_=crossover_mut,\n",
    "    selector=roullete,\n",
    "    selection_rate=0.5,\n",
    "    min_select=2,\n",
    "    max_steps=10000,\n",
    ")"
   ]
  },
  {
   "cell_type": "code",
   "execution_count": 70,
   "metadata": {},
   "outputs": [],
   "source": [
    "steps = [solve(eqs_repeat_plus, initial_pop) for _ in range(10)]"
   ]
  },
  {
   "cell_type": "code",
   "execution_count": 71,
   "metadata": {},
   "outputs": [
    {
     "data": {
      "text/plain": [
       "[-1, -1, -1, -1, -1, -1, -1, -1, -1, -1]"
      ]
     },
     "execution_count": 71,
     "metadata": {},
     "output_type": "execute_result"
    }
   ],
   "source": [
    "steps"
   ]
  },
  {
   "cell_type": "markdown",
   "metadata": {},
   "source": [
    "Aparentemente essa função de crossover não foi benéfica!"
   ]
  },
  {
   "cell_type": "markdown",
   "metadata": {},
   "source": [
    "Os únicos `solvers` que conseguiram terminar o problema até agora usaram uma função de `fitness` que penaliza repetições e crossovers diferentes. O segundo, que levou menos passos em média pra chegar na solução usa de uma lógica mais elaborada para tentar gerar sucessores mais viáveis. Porém, como saber o impacto que essa solução tem no tempo de execução?\n",
    "\n",
    "Para fazer esse benchmark, vamos usar a função mágica `%timeit`, do Jupyter:"
   ]
  },
  {
   "cell_type": "code",
   "execution_count": 86,
   "metadata": {},
   "outputs": [
    {
     "name": "stdout",
     "output_type": "stream",
     "text": [
      "1.26 s ± 0 ns per loop (mean ± std. dev. of 1 run, 20 loops each)\n"
     ]
    }
   ],
   "source": [
    "%timeit -n 20 -r 1 solve(eight_queen_solver, initial_pop)"
   ]
  },
  {
   "cell_type": "code",
   "execution_count": 87,
   "metadata": {},
   "outputs": [
    {
     "name": "stdout",
     "output_type": "stream",
     "text": [
      "962 ms ± 0 ns per loop (mean ± std. dev. of 1 run, 20 loops each)\n"
     ]
    }
   ],
   "source": [
    "%timeit -n 20 -r 1 solve(eqs_cross_plus, initial_pop)"
   ]
  },
  {
   "cell_type": "markdown",
   "metadata": {},
   "source": [
    "E num teste com 20 repetições, o `crossover_plus` foi um pouco mais rápido!"
   ]
  },
  {
   "cell_type": "code",
   "execution_count": null,
   "metadata": {},
   "outputs": [],
   "source": []
  }
 ],
 "metadata": {
  "kernelspec": {
   "display_name": "Python 3",
   "language": "python",
   "name": "python3"
  },
  "language_info": {
   "codemirror_mode": {
    "name": "ipython",
    "version": 3
   },
   "file_extension": ".py",
   "mimetype": "text/x-python",
   "name": "python",
   "nbconvert_exporter": "python",
   "pygments_lexer": "ipython3",
   "version": "3.7.6"
  }
 },
 "nbformat": 4,
 "nbformat_minor": 4
}
