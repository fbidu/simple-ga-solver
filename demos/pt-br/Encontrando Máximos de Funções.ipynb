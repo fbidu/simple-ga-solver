{
 "cells": [
  {
   "cell_type": "markdown",
   "metadata": {},
   "source": [
    "# Encontrando Máximos\n",
    "\n",
    "Um algoritmo genético busca sempre _maximizar_ algum valor, normalmente chamado de \"fitness\". \n",
    "Portanto, podemos utilizar de um AG para maximizar o valor de uma função em si.\n",
    "\n",
    "Suponha a seguinte função: $f(x) = -x^2 + 4x$, que possui o seguinte gráfico:"
   ]
  },
  {
   "cell_type": "markdown",
   "metadata": {},
   "source": [
    "![](graph.png)"
   ]
  },
  {
   "cell_type": "markdown",
   "metadata": {},
   "source": [
    "Como podemos ver, essa função tem um ponto máximo em $x = 2, y = 4$.\n",
    "\n",
    "Agora vamos encontrar esse máximo usando um algoritmo genético"
   ]
  },
  {
   "cell_type": "markdown",
   "metadata": {},
   "source": [
    "## A Função \"Fitness\"\n",
    "\n",
    "Como o objetivo é maximizar a própria função $f(x) = -x^2 + 5$, podemos usar como fitness uma função `lambda` que retorna exatamente o valor de x ou, no mínimo, um valor bem baixo:"
   ]
  },
  {
   "cell_type": "code",
   "execution_count": 21,
   "metadata": {},
   "outputs": [],
   "source": [
    "fitness = lambda x: max(-x ** 2 + 4*x, 0.0001)"
   ]
  },
  {
   "cell_type": "markdown",
   "metadata": {},
   "source": [
    "Dessa forma sempre temos um _fitness_ positivo"
   ]
  },
  {
   "cell_type": "markdown",
   "metadata": {},
   "source": [
    "## A Mutação\n",
    "\n",
    "Existem várias formas de fazer mutações em números. No caso eu vou usar a biblioteca `random` para sortear\n",
    "um número entre `[-2, +2]` e somar ao x:"
   ]
  },
  {
   "cell_type": "code",
   "execution_count": 22,
   "metadata": {},
   "outputs": [],
   "source": [
    "from random import uniform, randint\n",
    "\n",
    "mutation = lambda x: x + randint(-2, 2)\n"
   ]
  },
  {
   "cell_type": "code",
   "execution_count": 23,
   "metadata": {},
   "outputs": [
    {
     "data": {
      "text/plain": [
       "8"
      ]
     },
     "execution_count": 23,
     "metadata": {},
     "output_type": "execute_result"
    }
   ],
   "source": [
    "mutation(10)"
   ]
  },
  {
   "cell_type": "markdown",
   "metadata": {},
   "source": [
    "## O Cruzamento\n",
    "\n",
    "De novo, diversas formas existem de \"cruzar\" dois números. Eu vou apenas definir que o filho de dois números `x` e `y` seja a média aritmética inteira deles:"
   ]
  },
  {
   "cell_type": "code",
   "execution_count": 24,
   "metadata": {},
   "outputs": [],
   "source": [
    "crossover = lambda x, y: (x + y) // 2"
   ]
  },
  {
   "cell_type": "code",
   "execution_count": 25,
   "metadata": {},
   "outputs": [
    {
     "data": {
      "text/plain": [
       "5"
      ]
     },
     "execution_count": 25,
     "metadata": {},
     "output_type": "execute_result"
    }
   ],
   "source": [
    "crossover(0, 10)"
   ]
  },
  {
   "cell_type": "code",
   "execution_count": 26,
   "metadata": {},
   "outputs": [
    {
     "data": {
      "text/plain": [
       "3"
      ]
     },
     "execution_count": 26,
     "metadata": {},
     "output_type": "execute_result"
    }
   ],
   "source": [
    "crossover(2, 4)"
   ]
  },
  {
   "cell_type": "markdown",
   "metadata": {},
   "source": [
    "**Nota**: Observe que a minha função de mutação e de cruzamento vão garantir que a população seja composta sempre de números inteiros. Não precisava ser assim, mas eu estou usando do fato que eu _sei_ que a resposta será um inteiro para ajudar no processamento."
   ]
  },
  {
   "cell_type": "markdown",
   "metadata": {},
   "source": [
    "## A População Inicial\n",
    "\n",
    "Sabemos que o nosso resultado vai ser o valor $x = 2$. Para deixar as coisas mais divertidas,\n",
    "vou usar uma população de 4 elementos que estão longe desse valor:"
   ]
  },
  {
   "cell_type": "code",
   "execution_count": 27,
   "metadata": {},
   "outputs": [],
   "source": [
    "pop_inicial = [100, 200, 300, 400]"
   ]
  },
  {
   "cell_type": "markdown",
   "metadata": {},
   "source": [
    "## O GASolver\n",
    "\n",
    "Agora que definimos tudo, vamos instanciar um novo `GASolver`:"
   ]
  },
  {
   "cell_type": "code",
   "execution_count": 28,
   "metadata": {},
   "outputs": [],
   "source": [
    "import ga_solver\n",
    "from ga_solver import GASolver\n",
    "from ga_solver.pop_selectors import roullete"
   ]
  },
  {
   "cell_type": "code",
   "execution_count": 29,
   "metadata": {},
   "outputs": [],
   "source": [
    "solver = GASolver(\n",
    "    goal=fitness,\n",
    "    target_value=4,\n",
    "    initial_pop=pop_inicial,\n",
    "    mutation=mutation,\n",
    "    prob_mutation=0.8,\n",
    "    crossover_=crossover,\n",
    "    selector=roullete\n",
    ")"
   ]
  },
  {
   "cell_type": "markdown",
   "metadata": {},
   "source": [
    "Para evitar lotar as mensagens, vamos imprimir apenas a cada 100 passos:"
   ]
  },
  {
   "cell_type": "code",
   "execution_count": 30,
   "metadata": {},
   "outputs": [
    {
     "name": "stdout",
     "output_type": "stream",
     "text": [
      "O passo atual é: 100\n",
      "O melhor fit até agora foi: 0.0001\n",
      "O estado atual é: {225: 0.0001, 230: 0.0001}\n",
      "O passo atual é: 200\n",
      "O melhor fit até agora foi: 0.0001\n",
      "O estado atual é: {238: 0.0001, 234: 0.0001, 235: 0.0001, 233: 0.0001}\n",
      "O passo atual é: 300\n",
      "O melhor fit até agora foi: 0.0001\n",
      "O estado atual é: {225: 0.0001, 221: 0.0001, 223: 0.0001}\n",
      "O passo atual é: 400\n",
      "O melhor fit até agora foi: 0.0001\n",
      "O estado atual é: {208: 0.0001, 205: 0.0001, 207: 0.0001}\n",
      "O passo atual é: 500\n",
      "O melhor fit até agora foi: 0.0001\n",
      "O estado atual é: {196: 0.0001, 194: 0.0001, 195: 0.0001}\n",
      "O passo atual é: 600\n",
      "O melhor fit até agora foi: 0.0001\n",
      "O estado atual é: {204: 0.0001, 202: 0.0001, 201: 0.0001}\n",
      "O passo atual é: 700\n",
      "O melhor fit até agora foi: 0.0001\n",
      "O estado atual é: {218: 0.0001, 220: 0.0001}\n",
      "O passo atual é: 800\n",
      "O melhor fit até agora foi: 0.0001\n",
      "O estado atual é: {211: 0.0001, 206: 0.0001, 210: 0.0001, 208: 0.0001}\n",
      "O passo atual é: 900\n",
      "O melhor fit até agora foi: 0.0001\n",
      "O estado atual é: {212: 0.0001, 208: 0.0001, 207: 0.0001, 209: 0.0001}\n",
      "O passo atual é: 1000\n",
      "O melhor fit até agora foi: 0.0001\n",
      "O estado atual é: {206: 0.0001, 207: 0.0001, 205: 0.0001}\n",
      "O passo atual é: 1100\n",
      "O melhor fit até agora foi: 0.0001\n",
      "O estado atual é: {193: 0.0001, 196: 0.0001, 197: 0.0001}\n",
      "O passo atual é: 1200\n",
      "O melhor fit até agora foi: 0.0001\n",
      "O estado atual é: {189: 0.0001, 192: 0.0001, 190: 0.0001}\n",
      "O passo atual é: 1300\n",
      "O melhor fit até agora foi: 0.0001\n",
      "O estado atual é: {177: 0.0001, 180: 0.0001}\n",
      "O passo atual é: 1400\n",
      "O melhor fit até agora foi: 0.0001\n",
      "O estado atual é: {173: 0.0001, 174: 0.0001, 175: 0.0001}\n",
      "O passo atual é: 1500\n",
      "O melhor fit até agora foi: 0.0001\n",
      "O estado atual é: {181: 0.0001, 180: 0.0001, 182: 0.0001}\n",
      "O passo atual é: 1600\n",
      "O melhor fit até agora foi: 0.0001\n",
      "O estado atual é: {173: 0.0001, 171: 0.0001}\n",
      "O passo atual é: 1700\n",
      "O melhor fit até agora foi: 0.0001\n",
      "O estado atual é: {148: 0.0001, 147: 0.0001, 144: 0.0001}\n",
      "O passo atual é: 1800\n",
      "O melhor fit até agora foi: 0.0001\n",
      "O estado atual é: {140: 0.0001, 139: 0.0001, 141: 0.0001}\n",
      "O passo atual é: 1900\n",
      "O melhor fit até agora foi: 0.0001\n",
      "O estado atual é: {148: 0.0001, 146: 0.0001}\n",
      "O passo atual é: 2000\n",
      "O melhor fit até agora foi: 0.0001\n",
      "O estado atual é: {118: 0.0001, 115: 0.0001, 116: 0.0001}\n",
      "O passo atual é: 2100\n",
      "O melhor fit até agora foi: 0.0001\n",
      "O estado atual é: {97: 0.0001, 96: 0.0001, 94: 0.0001}\n",
      "O passo atual é: 2200\n",
      "O melhor fit até agora foi: 0.0001\n",
      "O estado atual é: {68: 0.0001, 72: 0.0001, 69: 0.0001}\n",
      "O passo atual é: 2300\n",
      "O melhor fit até agora foi: 0.0001\n",
      "O estado atual é: {79: 0.0001, 77: 0.0001, 78: 0.0001}\n",
      "O passo atual é: 2400\n",
      "O melhor fit até agora foi: 0.0001\n",
      "O estado atual é: {85: 0.0001, 83: 0.0001}\n",
      "O passo atual é: 2500\n",
      "O melhor fit até agora foi: 0.0001\n",
      "O estado atual é: {98: 0.0001, 97: 0.0001, 100: 0.0001}\n",
      "O passo atual é: 2600\n",
      "O melhor fit até agora foi: 0.0001\n",
      "O estado atual é: {88: 0.0001, 87: 0.0001}\n",
      "O passo atual é: 2700\n",
      "O melhor fit até agora foi: 0.0001\n",
      "O estado atual é: {98: 0.0001, 96: 0.0001, 94: 0.0001}\n",
      "O passo atual é: 2800\n",
      "O melhor fit até agora foi: 0.0001\n",
      "O estado atual é: {116: 0.0001, 113: 0.0001, 112: 0.0001}\n",
      "O passo atual é: 2900\n",
      "O melhor fit até agora foi: 0.0001\n",
      "O estado atual é: {113: 0.0001, 114: 0.0001, 110: 0.0001, 112: 0.0001}\n",
      "O passo atual é: 3000\n",
      "O melhor fit até agora foi: 0.0001\n",
      "O estado atual é: {98: 0.0001, 100: 0.0001}\n",
      "O passo atual é: 3100\n",
      "O melhor fit até agora foi: 0.0001\n",
      "O estado atual é: {93: 0.0001, 95: 0.0001, 94: 0.0001}\n",
      "O passo atual é: 3200\n",
      "O melhor fit até agora foi: 0.0001\n",
      "O estado atual é: {100: 0.0001, 102: 0.0001}\n",
      "O passo atual é: 3300\n",
      "O melhor fit até agora foi: 0.0001\n",
      "O estado atual é: {97: 0.0001, 99: 0.0001, 95: 0.0001}\n",
      "O passo atual é: 3400\n",
      "O melhor fit até agora foi: 0.0001\n",
      "O estado atual é: {78: 0.0001, 80: 0.0001, 77: 0.0001}\n",
      "O passo atual é: 3500\n",
      "O melhor fit até agora foi: 0.0001\n",
      "O estado atual é: {73: 0.0001, 72: 0.0001, 74: 0.0001}\n",
      "O passo atual é: 3600\n",
      "O melhor fit até agora foi: 0.0001\n",
      "O estado atual é: {46: 0.0001, 45: 0.0001, 49: 0.0001}\n",
      "O passo atual é: 3700\n",
      "O melhor fit até agora foi: 0.0001\n",
      "O estado atual é: {43: 0.0001, 44: 0.0001, 41: 0.0001}\n",
      "O passo atual é: 3800\n",
      "O melhor fit até agora foi: 0.0001\n",
      "O estado atual é: {27: 0.0001, 28: 0.0001, 25: 0.0001}\n",
      "O passo atual é: 3900\n",
      "O melhor fit até agora foi: 0.0001\n",
      "O estado atual é: {10: 0.0001, 7: 0.0001}\n",
      "O passo atual é: 3985\n",
      "O melhor fit até agora foi: 4\n",
      "O estado atual é: {5: 0.0001, 1: 3, 2: 4, 3: 3}\n"
     ]
    }
   ],
   "source": [
    "for state in solver:\n",
    "    if solver.steps % 100 == 0 or solver.solution_found:\n",
    "        print(f\"O passo atual é: {solver.steps}\")\n",
    "        print(f\"O melhor fit até agora foi: {solver.best_fit[1]}\")\n",
    "        print(f\"O estado atual é: {state}\")"
   ]
  },
  {
   "cell_type": "code",
   "execution_count": 31,
   "metadata": {},
   "outputs": [
    {
     "data": {
      "text/plain": [
       "True"
      ]
     },
     "execution_count": 31,
     "metadata": {},
     "output_type": "execute_result"
    }
   ],
   "source": [
    "solver.solution_found"
   ]
  },
  {
   "cell_type": "code",
   "execution_count": 32,
   "metadata": {},
   "outputs": [
    {
     "name": "stdout",
     "output_type": "stream",
     "text": [
      "A solução foi encontrada depois de 3985 passos\n"
     ]
    }
   ],
   "source": [
    "print(f\"A solução foi encontrada depois de {solver.steps} passos\")"
   ]
  }
 ],
 "metadata": {
  "kernelspec": {
   "display_name": "Python 3",
   "language": "python",
   "name": "python3"
  },
  "language_info": {
   "codemirror_mode": {
    "name": "ipython",
    "version": 3
   },
   "file_extension": ".py",
   "mimetype": "text/x-python",
   "name": "python",
   "nbconvert_exporter": "python",
   "pygments_lexer": "ipython3",
   "version": "3.7.6"
  }
 },
 "nbformat": 4,
 "nbformat_minor": 4
}
