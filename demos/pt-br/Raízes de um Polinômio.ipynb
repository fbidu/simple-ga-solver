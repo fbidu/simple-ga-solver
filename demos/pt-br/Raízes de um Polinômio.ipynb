{
 "cells": [
  {
   "cell_type": "markdown",
   "metadata": {},
   "source": [
    "Vamos começar encontrando as raízes de $f(x) = x^2 - 25$. Nós sabemos que a resposta deve ser $-5, +5$ mas vamos achá-las usando algoritmo genético"
   ]
  },
  {
   "cell_type": "markdown",
   "metadata": {},
   "source": [
    "Nossa função de `fit` irá penalizar severamente qualquer indivíduo fora do intervalo $(-100, 100)$:"
   ]
  },
  {
   "cell_type": "code",
   "execution_count": 263,
   "metadata": {},
   "outputs": [],
   "source": [
    "from sys import maxsize\n",
    "\n",
    "def fit(x):\n",
    "    \"\"\"\n",
    "    Dado x, retorna o quão bom ele é como resposta.\n",
    "    \n",
    "    Se for maior que 100 ou menor que -100, a resposta\n",
    "    será um valor muito negativo\n",
    "    \n",
    "    Se for igual a 0, que é o objetivo, será um valor muito\n",
    "    positivo\n",
    "    \n",
    "    Caso contrário será 1 / x^2 - 25. Dessa forma, quanto\n",
    "    mais perto f(x) for de 0, maior será o fit\n",
    "    \"\"\"\n",
    "    y = x ** 2 - 25\n",
    "    multiplier = - (x // 100) if abs(x) > 100 else 1\n",
    "        \n",
    "    if y == 0:\n",
    "        return maxsize\n",
    "    \n",
    "    return multiplier * (1 / y)"
   ]
  },
  {
   "cell_type": "markdown",
   "metadata": {},
   "source": [
    "A mutação inicial será simples. Vamos somar um valor inteiro aleatório entre $-\\dfrac{x}{2},  +\\dfrac{x}{2}$"
   ]
  },
  {
   "cell_type": "code",
   "execution_count": 264,
   "metadata": {},
   "outputs": [],
   "source": [
    "from random import randint\n",
    "def mutate(x):\n",
    "    half = abs(x) // 2\n",
    "    \n",
    "    if not half:\n",
    "        half = 2\n",
    "        \n",
    "    return x + randint(-half, half)"
   ]
  },
  {
   "cell_type": "markdown",
   "metadata": {},
   "source": [
    "O crossover inicial será igualmente simples - a média aritmética entre dois indivíduos:"
   ]
  },
  {
   "cell_type": "code",
   "execution_count": 265,
   "metadata": {},
   "outputs": [],
   "source": [
    "def crossover(x, y):\n",
    "    return (x + y) // 2"
   ]
  },
  {
   "cell_type": "markdown",
   "metadata": {},
   "source": [
    "Iniciando o GASolver:"
   ]
  },
  {
   "cell_type": "code",
   "execution_count": 279,
   "metadata": {},
   "outputs": [],
   "source": [
    "from random import randint, choice\n",
    "\n",
    "from ga_solver import GASolver\n",
    "from ga_solver.pop_selectors import roullete"
   ]
  },
  {
   "cell_type": "code",
   "execution_count": 292,
   "metadata": {},
   "outputs": [],
   "source": [
    "initial_pop = [choice([-1, 1]) * randint(500, 800) for _ in range(4)]"
   ]
  },
  {
   "cell_type": "code",
   "execution_count": 293,
   "metadata": {},
   "outputs": [
    {
     "data": {
      "text/plain": [
       "[-568, 637, 767, 666]"
      ]
     },
     "execution_count": 293,
     "metadata": {},
     "output_type": "execute_result"
    }
   ],
   "source": [
    "initial_pop"
   ]
  },
  {
   "cell_type": "code",
   "execution_count": 294,
   "metadata": {},
   "outputs": [],
   "source": [
    "solver_1 = GASolver(\n",
    "    initial_pop=initial_pop,\n",
    "    goal=fit,\n",
    "    target_value=maxsize,\n",
    "    mutation=mutate,\n",
    "    prob_mutation=0.5,\n",
    "    crossover_=crossover,\n",
    "    selector=roullete,\n",
    ")"
   ]
  },
  {
   "cell_type": "code",
   "execution_count": 295,
   "metadata": {},
   "outputs": [
    {
     "name": "stdout",
     "output_type": "stream",
     "text": [
      "[666, 732, 716, 1028]\n",
      "[586, 716, 724, 369]\n",
      "[369, 785, 546, 277]\n",
      "[785, 1040]\n",
      "[785, 1040, 1114, 912]\n",
      "[1040, 1287, 1181, 1333]\n",
      "[1181, 979, 807]\n",
      "[1069, 1160, 1215, 1181]\n",
      "[956, 1100, 1339, 635]\n",
      "[815, 635, 922, 795]\n",
      "[922, 490, 1118, 868]\n",
      "[1118, 1437, 1034]\n",
      "[1034, 1437, 911, 1360]\n",
      "[960, 911, 972]\n",
      "[911, 724, 1210, 835]\n",
      "[724, 1210, 1412, 967]\n",
      "[724, 967, 845]\n",
      "[845, 885, 837, 571]\n",
      "[1323, 885]\n",
      "[1098, 692, 645, 885]\n",
      "[885, 582, 1175]\n",
      "[326, 885, 733]\n",
      "[733, 900, 604, 1163]\n",
      "[733, 604, 668]\n",
      "[455, 668, 414, 700]\n",
      "[414, 455, 434]\n",
      "[288, 455, 434, 274]\n",
      "[205, 192, 288, 243]\n",
      "[288, 205, 246]\n",
      "[160, 216, 225, 138]\n",
      "[111, 225, 192]\n",
      "[225, 124]\n",
      "[283, 124, 228, 174]\n",
      "[228, 320]\n",
      "[320, 261, 335, 235]\n",
      "[261, 436, 300, 298]\n",
      "[436, 378, 188, 368]\n",
      "[280, 368, 278]\n",
      "[280, 216, 293]\n",
      "[216, 306, 254]\n",
      "[379, 231, 356, 222]\n",
      "[250, 231, 201]\n",
      "[201, 231, 216]\n",
      "[201, 216, 124, 208]\n",
      "[124, 255, 133, 174]\n",
      "[133, 142, 104, 128]\n",
      "[142, 140, 123]\n",
      "[166, 71, 132]\n",
      "[71, 64]\n",
      "[64, 56, 51, 61]\n",
      "[51, 64, 57]\n",
      "[51, 57, 54]\n",
      "[52, 54, 51]\n",
      "[45, 40, 51, 55]\n",
      "[40, 51, 32, 45]\n",
      "[40]\n",
      "[40, 38, 57]\n",
      "[23, 38, 34]\n",
      "[26, 23, 31]\n",
      "[20, 29, 17, 31]\n",
      "[17, 19, 15]\n",
      "[24, 20, 25, 17]\n",
      "[17, 25, 21]\n",
      "[13, 9, 17, 14]\n",
      "[9, 11, 12]\n",
      "[10, 9, 5]\n"
     ]
    }
   ],
   "source": [
    "for state in solver_1:\n",
    "    print(list(state.keys()))"
   ]
  },
  {
   "cell_type": "code",
   "execution_count": 296,
   "metadata": {},
   "outputs": [
    {
     "data": {
      "text/plain": [
       "66"
      ]
     },
     "execution_count": 296,
     "metadata": {},
     "output_type": "execute_result"
    }
   ],
   "source": [
    "solver_1.steps"
   ]
  },
  {
   "cell_type": "code",
   "execution_count": 297,
   "metadata": {},
   "outputs": [
    {
     "data": {
      "text/plain": [
       "[5]"
      ]
     },
     "execution_count": 297,
     "metadata": {},
     "output_type": "execute_result"
    }
   ],
   "source": [
    "solver_1.solutions"
   ]
  },
  {
   "cell_type": "code",
   "execution_count": null,
   "metadata": {},
   "outputs": [],
   "source": []
  }
 ],
 "metadata": {
  "kernelspec": {
   "display_name": "Python 3",
   "language": "python",
   "name": "python3"
  },
  "language_info": {
   "codemirror_mode": {
    "name": "ipython",
    "version": 3
   },
   "file_extension": ".py",
   "mimetype": "text/x-python",
   "name": "python",
   "nbconvert_exporter": "python",
   "pygments_lexer": "ipython3",
   "version": "3.7.6"
  }
 },
 "nbformat": 4,
 "nbformat_minor": 4
}
