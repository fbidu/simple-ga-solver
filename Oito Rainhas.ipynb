{
 "cells": [
  {
   "cell_type": "markdown",
   "metadata": {},
   "source": [
    "# O Problema das Oito Rainhas\n",
    "\n",
    "Esse notebook demonstra o `GASolver` usando-o para resolver o Problema das Oito Rainhas.\n",
    "O problema consiste em colocoar oito rainhas num tabuleiro de xadrez de forma que\n",
    "nenhuma delas possa atacar a outra.\n",
    "\n",
    "Para resolver um problema utilizando algoritmos genéticos e, por consequência o `GASolver`,\n",
    "algumas questões precisam ser definidas:\n",
    "\n",
    "    1. Como representar uma possível solução, normalmente chamado de 'indivíduo'?\n",
    "    2. Como realizar uma *mutação* em um indivíduo?\n",
    "    3. Como realizar o *cruzamento* de dois indivíduos?\n",
    "    4. Como determinar o quão \"perto\" da solução um indivíduo está,\n",
    "       normalmente chamado de \"_fitness_\"?\n",
    "    5. Como definir o valor de \"_fitness_\" máximo e indica que o problema é\n",
    "       resolvido por um indivíduo?"
   ]
  },
  {
   "cell_type": "markdown",
   "metadata": {},
   "source": [
    "## Expressando um Indivíduo\n",
    "\n",
    "No caso do Problema das Oito Rainhas, podemos lançar mão de certas características\n",
    "das regras e do jogo de xadrez:\n",
    "\n",
    "    1. O tabuleiro é 8x8\n",
    "    2. Rainhas atacam toda a sua coluna\n",
    "    3. Rainhas atacam toda a sua linha\n",
    "    \n",
    "Dessas observações, podemos concluir com segurança que uma solução não terá\n",
    "duas ou mais rainhas na mesma linha nem na mesma coluna. Seja lá como for\n",
    "a solução, as rainhas não podem compartilhar esses atributos.\n",
    "\n",
    "Sendo assim, podemos representar um indivíduo - e por consequência uma\n",
    "possível solução - como sendo simplesmente uma lista de 8 números\n",
    "inteiros de 1 à 8. Cada posição na lista representa uma coluna\n",
    "e o número na posição indica a linha na qual existe uma rainha.\n",
    "\n",
    "Por exemplo, em `[3, 2, 5]`, temos 3 rainhas:\n",
    "\n",
    "    1. Na coluna 1, linha 3\n",
    "    2. Na coluna 2, linha 2\n",
    "    3. Na coluna 3, linha 5\n",
    "    \n",
    "Note que no problema real, teremos sempre 8 números."
   ]
  },
  {
   "cell_type": "markdown",
   "metadata": {},
   "source": [
    "## Realizando uma Mutação\n",
    "\n",
    "Existem diversas formas que poderíamos recombinar uma lista de 8 números\n",
    "para fabricar uma outra lista de 8 números. No caso, vou optar por\n",
    "uma solução que procede assim:\n",
    "\n",
    "    1. Um índice entre [1, 6) é escolhido\n",
    "    2. Tudo o que tiver na lista depois desse índice é invertido\n",
    "    \n",
    "```\n",
    "[1, 2, 3, 4 | 5, 6, 7, 8] -> [1, 2, 3, 4, 8, 7, 5, 6]\n",
    "            ^\n",
    "            |\n",
    "          mutação\n",
    "```\n",
    "\n",
    "Por que entre 1 e 6? Isso é uma escolha arbitrária! Fiz nessa faixa porque\n",
    "gostaria que sempre _alguma coisa_ fosse mutada mas que também _alguma coisa_\n",
    "ficasse igual. Se fosse possível sortear 0, seria também possível mudar tudo.\n",
    "Por outro lado se fosse possível sortear 6 ou mais, muito pouco da solução\n",
    "original iria sobrar. Escolhi esses valores para tentar equilibrar."
   ]
  },
  {
   "cell_type": "code",
   "execution_count": 1,
   "metadata": {},
   "outputs": [],
   "source": [
    "from random import randint\n",
    "def board_mutation(board):\n",
    "    \"\"\"\n",
    "    Pick a random position in the middle of board and flips it\n",
    "    [1, 2, 3, 4 | 5, 6, 7, 8] -> [1, 2, 3, 4, 8, 7, 5, 6]\n",
    "                ^\n",
    "         mutation point\n",
    "    \"\"\"\n",
    "    board = list(board)\n",
    "    point = randint(1, 6)\n",
    "    board[point:] = board[point:][::-1]\n",
    "    return tuple(board)"
   ]
  },
  {
   "cell_type": "markdown",
   "metadata": {},
   "source": [
    "## Cruzando Indivíduos\n",
    "\n",
    "Da mesma forma que podemos definir uma mutação de muitas formas diferentes,\n",
    "também podemos inventar diversas maneiras de criar um novo indivíduo com\n",
    "base em outros dois que já existem. Decidi proceder de uma maneira\n",
    "parecida com a mutação:\n",
    "\n",
    "    1. Um índice aleatório é escolhido entre 1 <= x < 6\n",
    "    2. Até esse índice, o filho será igual ao ancestral A\n",
    "    3. Desse índice em diante, o filho será igual ao ancestral B\n",
    "\n",
    "Assim como na mutação, poderíamos ter feito de diversas formas diferentes,\n",
    "essa foi uma escolha arbitrária pensando em como fazer com que os dois\n",
    "ancestrais contribuam para o descendente"
   ]
  },
  {
   "cell_type": "code",
   "execution_count": null,
   "metadata": {},
   "outputs": [],
   "source": []
  },
  {
   "cell_type": "code",
   "execution_count": 2,
   "metadata": {},
   "outputs": [],
   "source": [
    "def crossover(board_a, board_b):\n",
    "    \"\"\"\n",
    "    Picks a random point in the board. The sibling will be equal to board_a\n",
    "    up until that point and board_b to the rest.\n",
    "    \"\"\"\n",
    "    # Trimming the ends so that each parent will have a part\n",
    "    point = randint(1, 6)\n",
    "    result = board_a[:point]\n",
    "    result.extend(board_b[point:])\n",
    "    \n",
    "    return tuple(result)"
   ]
  },
  {
   "cell_type": "code",
   "execution_count": 3,
   "metadata": {},
   "outputs": [
    {
     "data": {
      "text/plain": [
       "(1, 5, 6, 1, 2, 3, 7, 8)"
      ]
     },
     "execution_count": 3,
     "metadata": {},
     "output_type": "execute_result"
    }
   ],
   "source": [
    "crossover([1,2,3,4,5,6,7,8], [4,5,6,1,2,3,7,8])"
   ]
  },
  {
   "cell_type": "markdown",
   "metadata": {},
   "source": [
    "## Determinando o _fitness_ e o Valor Ótimo\n",
    "\n",
    "No caso do Problema das Oito Rainhas, podemos definir o quão boa uma\n",
    "solução é com base no _número de pares de rainhas que não conseguem\n",
    "se atacar_. Como queremos que _nenhuma_ rainha consiga se atacar,\n",
    "o valor ótimo é igual à 28, o número de combinações dois-por-dois\n",
    "que conseguimos fazer com 8 elementos sem repetição.\n",
    "\n",
    "Determinar se duas rainhas se atacam envolve determinar 3 itens,\n",
    "se as rainhas estão na mesma:\n",
    "\n",
    "    1. Linha\n",
    "    2. Coluna\n",
    "    3. Diagonal\n",
    "    \n",
    "Determinar as duas primeiras condições é fácil, a terceira\n",
    "é um pouco mais elaborada. Para dividir responsabilidades\n",
    "e garantir que cada pedaço de código seja bem contido,\n",
    "primeiro vou definir uma função que determinar quais\n",
    "são as posições no tabuleiro nas diagonais de uma\n",
    "determinada posição:"
   ]
  },
  {
   "cell_type": "code",
   "execution_count": 4,
   "metadata": {},
   "outputs": [],
   "source": [
    "from functools import lru_cache\n",
    "\n",
    "\n",
    "@lru_cache(maxsize=64)\n",
    "def diagonals(line, column):\n",
    "    \"\"\"\n",
    "    Returns a list containing the positions in the\n",
    "    diagonals of a given square\n",
    "    \n",
    "    >>> attacking_positions(8, 1)\n",
    "    [(7, 2), (6, 3), (5, 4), (4, 5), (3, 6), (2, 7), (1, 8)]\n",
    "    \"\"\"\n",
    "    result = []\n",
    "\n",
    "    def check_bounds(line, column):\n",
    "        \"\"\"\n",
    "        Checks if a given position is valid. That is, is within the board boundaries\n",
    "        \"\"\"\n",
    "        return (0 < line < 9) and (0 < column < 9)\n",
    "\n",
    "    def diagonal(line, column, n=1):\n",
    "        \"\"\"\n",
    "        Calculates the diagonals of a given position\n",
    "        \"\"\"\n",
    "        for x in range(1, 9):\n",
    "            if n == 1:\n",
    "                line_ = line + x\n",
    "                column_ = column + x\n",
    "            elif n == 2:\n",
    "                line_ = line - x\n",
    "                column_ = column + x\n",
    "            elif n == 3:\n",
    "                line_ = line - x\n",
    "                column_ = column - x\n",
    "            elif n == 4:\n",
    "                line_ = line + x\n",
    "                column_ = column - x\n",
    "\n",
    "            if check_bounds(line_, column_):\n",
    "                yield (line_, column_)\n",
    "\n",
    "    diagonal1 = list(diagonal(line, column))\n",
    "    diagonal2 = list(diagonal(line, column, n=2))\n",
    "    diagonal3 = list(diagonal(line, column, n=3))\n",
    "    diagonal4 = list(diagonal(line, column, n=4))\n",
    "\n",
    "    result.extend(diagonal1)\n",
    "    result.extend(diagonal2)\n",
    "    result.extend(diagonal3)\n",
    "    result.extend(diagonal4)\n",
    "    return result"
   ]
  },
  {
   "cell_type": "code",
   "execution_count": 5,
   "metadata": {},
   "outputs": [
    {
     "data": {
      "text/plain": [
       "[(7, 2), (6, 3), (5, 4), (4, 5), (3, 6), (2, 7), (1, 8)]"
      ]
     },
     "execution_count": 5,
     "metadata": {},
     "output_type": "execute_result"
    }
   ],
   "source": [
    "diagonals(8, 1)"
   ]
  },
  {
   "cell_type": "markdown",
   "metadata": {},
   "source": [
    "Definida a função que computa as diagonais, podemos escrever uma função `attacks`,\n",
    "que dada duas rainhas retorna `True` ou `False` se elas podem se atacar ou não."
   ]
  },
  {
   "cell_type": "code",
   "execution_count": 6,
   "metadata": {},
   "outputs": [],
   "source": [
    "def attacks(queen_a, queen_b):\n",
    "    \"\"\"\n",
    "    Returns true if those queens are in reachable positions from each other\n",
    "    \n",
    "    Args:\n",
    "        queen_a, queen_b (tuple): a (line, column) tuple representing their positions\n",
    "        \n",
    "    >>> attacks((8,1), (6,3))\n",
    "    True\n",
    "    >>> attacks((6,3), (8, 1))\n",
    "    True\n",
    "    \n",
    "    \"\"\"\n",
    "\n",
    "    return (\n",
    "        queen_a[0] == queen_b[0]\n",
    "        or queen_a[1] == queen_b[1]\n",
    "        or queen_a in diagonals(*queen_b)\n",
    "    )"
   ]
  },
  {
   "cell_type": "code",
   "execution_count": 7,
   "metadata": {},
   "outputs": [
    {
     "data": {
      "text/plain": [
       "True"
      ]
     },
     "execution_count": 7,
     "metadata": {},
     "output_type": "execute_result"
    }
   ],
   "source": [
    "attacks((8, 1), (6, 3))"
   ]
  },
  {
   "cell_type": "markdown",
   "metadata": {},
   "source": [
    "Finalmente, podemos definir uma função que dado um tabuleiro,\n",
    "retorna o número de pares de rainhas que podem se atacar"
   ]
  },
  {
   "cell_type": "code",
   "execution_count": 8,
   "metadata": {},
   "outputs": [],
   "source": [
    "from itertools import combinations\n",
    "\n",
    "def count_non_attacking_queens(board):\n",
    "    \"\"\"\n",
    "    Given an integer list of 8 items, each position representing a column on a chess board\n",
    "    and each number representing a line in that column where there's a queen, returns\n",
    "    the number of non attacking queens\n",
    "    \"\"\"\n",
    "    queens = [(line, column + 1) for column, line in enumerate(board)]\n",
    "    queen_combos = combinations(queens, 2)\n",
    "    \n",
    "    non_attacking = 0\n",
    "    \n",
    "    for queen_a, queen_b in queen_combos:\n",
    "        non_attacking += 1 if not attacks(queen_a, queen_b) else 0\n",
    "    return non_attacking"
   ]
  },
  {
   "cell_type": "code",
   "execution_count": 9,
   "metadata": {},
   "outputs": [
    {
     "data": {
      "text/plain": [
       "27"
      ]
     },
     "execution_count": 9,
     "metadata": {},
     "output_type": "execute_result"
    }
   ],
   "source": [
    "count_non_attacking_queens([8,6,4,2,7,5,3,1])"
   ]
  },
  {
   "cell_type": "markdown",
   "metadata": {},
   "source": [
    "## Usando o `GASolver`"
   ]
  },
  {
   "cell_type": "markdown",
   "metadata": {},
   "source": [
    "Com todas essas informações definidas, podemos usar o `GASolver` para resolver o problema das Oito Rainhas.\n",
    "Vou definir a população inicial como sendo 100 tabuleiros aleatórios"
   ]
  },
  {
   "cell_type": "code",
   "execution_count": 87,
   "metadata": {},
   "outputs": [],
   "source": [
    "from random import sample\n",
    "initial_pop = [tuple(sample(range(1,9), k=8)) for _ in range(100)]"
   ]
  },
  {
   "cell_type": "code",
   "execution_count": 88,
   "metadata": {},
   "outputs": [],
   "source": [
    "from ga_solver import GASolver\n",
    "from ga_solver.pop_selectors import roullete"
   ]
  },
  {
   "cell_type": "markdown",
   "metadata": {},
   "source": [
    "Com essa população, podemos instanciar um `GASolver` usando o algoritmo de Roleta para seleção."
   ]
  },
  {
   "cell_type": "code",
   "execution_count": 89,
   "metadata": {},
   "outputs": [],
   "source": [
    "eight_queen_solver = GASolver(\n",
    "    initial_pop,\n",
    "    goal=count_non_attacking_queens,\n",
    "    target_value=28,\n",
    "    mutation=board_mutation,\n",
    "    prob_mutation=0.4,\n",
    "    crossover_=crossover,\n",
    "    selector=roullete,\n",
    "    max_steps=2000,\n",
    ")"
   ]
  },
  {
   "cell_type": "code",
   "execution_count": 90,
   "metadata": {},
   "outputs": [
    {
     "name": "stdout",
     "output_type": "stream",
     "text": [
      "State #0, best fit is 27\n",
      "State #1, best fit is 26\n",
      "State #2, best fit is 26\n",
      "State #3, best fit is 26\n",
      "State #4, best fit is 25\n",
      "State #5, best fit is 24\n",
      "State #6, best fit is 24\n",
      "State #7, best fit is 23\n",
      "State #8, best fit is 24\n",
      "State #9, best fit is 26\n",
      "State #10, best fit is 26\n",
      "State #11, best fit is 26\n",
      "State #12, best fit is 24\n",
      "State #13, best fit is 24\n",
      "State #14, best fit is 24\n",
      "State #15, best fit is 24\n",
      "State #16, best fit is 24\n",
      "State #17, best fit is 20\n",
      "State #18, best fit is 20\n",
      "State #19, best fit is 20\n",
      "State #20, best fit is 20\n",
      "State #21, best fit is 24\n",
      "State #22, best fit is 24\n",
      "State #23, best fit is 25\n",
      "State #24, best fit is 22\n",
      "State #25, best fit is 22\n",
      "State #26, best fit is 22\n",
      "State #27, best fit is 22\n",
      "State #28, best fit is 25\n",
      "State #29, best fit is 25\n",
      "State #30, best fit is 26\n",
      "State #31, best fit is 23\n",
      "State #32, best fit is 23\n",
      "State #33, best fit is 23\n",
      "State #34, best fit is 26\n",
      "State #35, best fit is 26\n",
      "State #36, best fit is 25\n",
      "State #37, best fit is 25\n",
      "State #38, best fit is 25\n",
      "State #39, best fit is 25\n",
      "State #40, best fit is 25\n",
      "State #41, best fit is 25\n",
      "State #42, best fit is 25\n",
      "State #43, best fit is 23\n",
      "State #44, best fit is 22\n",
      "State #45, best fit is 22\n",
      "State #46, best fit is 22\n",
      "State #47, best fit is 23\n",
      "State #48, best fit is 25\n",
      "State #49, best fit is 25\n",
      "State #50, best fit is 22\n",
      "State #51, best fit is 22\n",
      "State #52, best fit is 25\n",
      "State #53, best fit is 25\n",
      "State #54, best fit is 25\n",
      "State #55, best fit is 22\n",
      "State #56, best fit is 21\n",
      "State #57, best fit is 21\n",
      "State #58, best fit is 20\n",
      "State #59, best fit is 23\n",
      "State #60, best fit is 22\n",
      "State #61, best fit is 22\n",
      "State #62, best fit is 22\n",
      "State #63, best fit is 25\n",
      "State #64, best fit is 25\n",
      "State #65, best fit is 25\n",
      "State #66, best fit is 25\n",
      "State #67, best fit is 25\n",
      "State #68, best fit is 25\n",
      "State #69, best fit is 24\n",
      "State #70, best fit is 25\n",
      "State #71, best fit is 25\n",
      "State #72, best fit is 25\n",
      "State #73, best fit is 24\n",
      "State #74, best fit is 24\n",
      "State #75, best fit is 25\n",
      "State #76, best fit is 25\n",
      "State #77, best fit is 27\n",
      "State #78, best fit is 27\n",
      "State #79, best fit is 26\n",
      "State #80, best fit is 26\n",
      "State #81, best fit is 27\n"
     ]
    }
   ],
   "source": [
    "fits = []\n",
    "while not eight_queen_solver.solution_found:\n",
    "    print(f\"State #{eight_queen_solver.steps}, best fit is {eight_queen_solver.best_fit[1]}\")\n",
    "    fits.append(eight_queen_solver.best_fit[1])\n",
    "    next(eight_queen_solver)"
   ]
  },
  {
   "cell_type": "code",
   "execution_count": 91,
   "metadata": {},
   "outputs": [
    {
     "data": {
      "text/plain": [
       "True"
      ]
     },
     "execution_count": 91,
     "metadata": {},
     "output_type": "execute_result"
    }
   ],
   "source": [
    "eight_queen_solver.solution_found"
   ]
  },
  {
   "cell_type": "code",
   "execution_count": 92,
   "metadata": {},
   "outputs": [],
   "source": [
    "import matplotlib.pyplot as plt"
   ]
  },
  {
   "cell_type": "code",
   "execution_count": 93,
   "metadata": {},
   "outputs": [
    {
     "data": {
      "text/plain": [
       "[<matplotlib.lines.Line2D at 0x7f72f7398750>]"
      ]
     },
     "execution_count": 93,
     "metadata": {},
     "output_type": "execute_result"
    },
    {
     "data": {
      "image/png": "[encoded data removed]",
      "text/plain": [
       "<Figure size 432x288 with 1 Axes>"
      ]
     },
     "metadata": {
      "needs_background": "light"
     },
     "output_type": "display_data"
    }
   ],
   "source": [
    "plt.plot(fits)"
   ]
  }
 ],
 "metadata": {
  "kernelspec": {
   "display_name": "Python 3",
   "language": "python",
   "name": "python3"
  },
  "language_info": {
   "codemirror_mode": {
    "name": "ipython",
    "version": 3
   },
   "file_extension": ".py",
   "mimetype": "text/x-python",
   "name": "python",
   "nbconvert_exporter": "python",
   "pygments_lexer": "ipython3",
   "version": "3.7.6"
  }
 },
 "nbformat": 4,
 "nbformat_minor": 4
}
